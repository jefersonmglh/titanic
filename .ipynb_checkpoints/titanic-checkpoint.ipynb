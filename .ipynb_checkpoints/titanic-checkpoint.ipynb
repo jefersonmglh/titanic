{
 "cells": [
  {
   "cell_type": "markdown",
   "id": "c89a180a",
   "metadata": {},
   "source": [
    "**Autor** : Jeferson Magalhães dos Santos\n",
    "\n",
    "**e-mail**: jefersonmdossantos@gmail.com\n",
    "    \n",
    "**github**: jefersonmglh"
   ]
  },
  {
   "cell_type": "markdown",
   "id": "430d910c",
   "metadata": {},
   "source": [
    "#  <a name=\"indice\">  Índice </a>"
   ]
  },
  {
   "cell_type": "markdown",
   "id": "346b5f94",
   "metadata": {},
   "source": [
    "* [Resumo](#resumo)\n",
    "* [1. Importação de pacotes e dados](#import)\n",
    "* [2. Análise preliminar](#visualizacao)\n",
    "* [3. Tratamento](#tratamento)\n",
    "* [4. Correlação e Associação](#corr)\n",
    "* [5. Treinamento do modelo de aprendizado](#modelo)\n",
    "* [6. Avaliação do modelo](#avaliacao)\n",
    "* [7. Aprimoramento do modelo](#aprimoramento)\n",
    "* [8. Conclusão](#conclusao)"
   ]
  },
  {
   "cell_type": "markdown",
   "id": "c765e147",
   "metadata": {},
   "source": [
    "#  <a name=\"resumo\"> RESUMO </a>\n",
    "[Voltar ao índice](#indice)\n",
    "\n",
    "\"\""
   ]
  },
  {
   "cell_type": "markdown",
   "id": "924614e8",
   "metadata": {},
   "source": [
    "#  <a name=\"import\">1. Importação de pacotes e dados </a>\n",
    "[Voltar ao índice](#indice)"
   ]
  },
  {
   "cell_type": "code",
   "execution_count": 2,
   "id": "752ce3dd",
   "metadata": {},
   "outputs": [],
   "source": [
    "#basic\n",
    "import pandas as pd\n",
    "import numpy as np\n",
    "import warnings\n",
    "warnings.filterwarnings('ignore')\n",
    "\n",
    "#graph\n",
    "import matplotlib.pyplot as plt\n",
    "import seaborn as sns\n",
    "import missingno as msno\n",
    "import chart_studio.plotly as cplt\n",
    "import plotly.graph_objs as go\n",
    "\n",
    "#model&metrics\n",
    "# from sklearn.model_selection import train_test_split\n",
    "# from sklearn import metrics\n",
    "# from sklearn.metrics import roc_curve, auc, precision_recall_fscore_support, classification_report\n",
    "# from scipy.stats import chi2, chi2_contingency, iqr, pearsonr\n",
    "# from sklearn.preprocessing import StandardScaler\n",
    "\n",
    "\n"
   ]
  },
  {
   "cell_type": "code",
   "execution_count": 21,
   "id": "a006ea31",
   "metadata": {},
   "outputs": [
    {
     "data": {
      "text/html": [
       "<div>\n",
       "<style scoped>\n",
       "    .dataframe tbody tr th:only-of-type {\n",
       "        vertical-align: middle;\n",
       "    }\n",
       "\n",
       "    .dataframe tbody tr th {\n",
       "        vertical-align: top;\n",
       "    }\n",
       "\n",
       "    .dataframe thead th {\n",
       "        text-align: right;\n",
       "    }\n",
       "</style>\n",
       "<table border=\"1\" class=\"dataframe\">\n",
       "  <thead>\n",
       "    <tr style=\"text-align: right;\">\n",
       "      <th></th>\n",
       "      <th>PassengerId</th>\n",
       "      <th>Survived</th>\n",
       "      <th>Pclass</th>\n",
       "      <th>Name</th>\n",
       "      <th>Sex</th>\n",
       "      <th>Age</th>\n",
       "      <th>SibSp</th>\n",
       "      <th>Parch</th>\n",
       "      <th>Ticket</th>\n",
       "      <th>Fare</th>\n",
       "      <th>Cabin</th>\n",
       "      <th>Embarked</th>\n",
       "    </tr>\n",
       "  </thead>\n",
       "  <tbody>\n",
       "    <tr>\n",
       "      <th>0</th>\n",
       "      <td>1</td>\n",
       "      <td>0</td>\n",
       "      <td>3</td>\n",
       "      <td>Braund, Mr. Owen Harris</td>\n",
       "      <td>male</td>\n",
       "      <td>22.0</td>\n",
       "      <td>1</td>\n",
       "      <td>0</td>\n",
       "      <td>A/5 21171</td>\n",
       "      <td>7.2500</td>\n",
       "      <td>NaN</td>\n",
       "      <td>S</td>\n",
       "    </tr>\n",
       "    <tr>\n",
       "      <th>1</th>\n",
       "      <td>2</td>\n",
       "      <td>1</td>\n",
       "      <td>1</td>\n",
       "      <td>Cumings, Mrs. John Bradley (Florence Briggs Th...</td>\n",
       "      <td>female</td>\n",
       "      <td>38.0</td>\n",
       "      <td>1</td>\n",
       "      <td>0</td>\n",
       "      <td>PC 17599</td>\n",
       "      <td>71.2833</td>\n",
       "      <td>C85</td>\n",
       "      <td>C</td>\n",
       "    </tr>\n",
       "    <tr>\n",
       "      <th>2</th>\n",
       "      <td>3</td>\n",
       "      <td>1</td>\n",
       "      <td>3</td>\n",
       "      <td>Heikkinen, Miss. Laina</td>\n",
       "      <td>female</td>\n",
       "      <td>26.0</td>\n",
       "      <td>0</td>\n",
       "      <td>0</td>\n",
       "      <td>STON/O2. 3101282</td>\n",
       "      <td>7.9250</td>\n",
       "      <td>NaN</td>\n",
       "      <td>S</td>\n",
       "    </tr>\n",
       "    <tr>\n",
       "      <th>3</th>\n",
       "      <td>4</td>\n",
       "      <td>1</td>\n",
       "      <td>1</td>\n",
       "      <td>Futrelle, Mrs. Jacques Heath (Lily May Peel)</td>\n",
       "      <td>female</td>\n",
       "      <td>35.0</td>\n",
       "      <td>1</td>\n",
       "      <td>0</td>\n",
       "      <td>113803</td>\n",
       "      <td>53.1000</td>\n",
       "      <td>C123</td>\n",
       "      <td>S</td>\n",
       "    </tr>\n",
       "    <tr>\n",
       "      <th>4</th>\n",
       "      <td>5</td>\n",
       "      <td>0</td>\n",
       "      <td>3</td>\n",
       "      <td>Allen, Mr. William Henry</td>\n",
       "      <td>male</td>\n",
       "      <td>35.0</td>\n",
       "      <td>0</td>\n",
       "      <td>0</td>\n",
       "      <td>373450</td>\n",
       "      <td>8.0500</td>\n",
       "      <td>NaN</td>\n",
       "      <td>S</td>\n",
       "    </tr>\n",
       "  </tbody>\n",
       "</table>\n",
       "</div>"
      ],
      "text/plain": [
       "   PassengerId  Survived  Pclass  \\\n",
       "0            1         0       3   \n",
       "1            2         1       1   \n",
       "2            3         1       3   \n",
       "3            4         1       1   \n",
       "4            5         0       3   \n",
       "\n",
       "                                                Name     Sex   Age  SibSp  \\\n",
       "0                            Braund, Mr. Owen Harris    male  22.0      1   \n",
       "1  Cumings, Mrs. John Bradley (Florence Briggs Th...  female  38.0      1   \n",
       "2                             Heikkinen, Miss. Laina  female  26.0      0   \n",
       "3       Futrelle, Mrs. Jacques Heath (Lily May Peel)  female  35.0      1   \n",
       "4                           Allen, Mr. William Henry    male  35.0      0   \n",
       "\n",
       "   Parch            Ticket     Fare Cabin Embarked  \n",
       "0      0         A/5 21171   7.2500   NaN        S  \n",
       "1      0          PC 17599  71.2833   C85        C  \n",
       "2      0  STON/O2. 3101282   7.9250   NaN        S  \n",
       "3      0            113803  53.1000  C123        S  \n",
       "4      0            373450   8.0500   NaN        S  "
      ]
     },
     "execution_count": 21,
     "metadata": {},
     "output_type": "execute_result"
    }
   ],
   "source": [
    "df = pd.read_csv('train.csv')\n",
    "df.head()"
   ]
  },
  {
   "cell_type": "markdown",
   "id": "9311ae46",
   "metadata": {},
   "source": [
    "#  <a name=\"visualizacao\">2. Análise preliminar</a>\n",
    "[Voltar ao índice](#indice)"
   ]
  },
  {
   "cell_type": "code",
   "execution_count": 22,
   "id": "fbf95ab1",
   "metadata": {},
   "outputs": [
    {
     "name": "stdout",
     "output_type": "stream",
     "text": [
      "DATASET SHAPE:  (891, 12) \n",
      "\n",
      "--------------------------------------------------\n",
      "FEATURE DATA TYPES:\n",
      "<class 'pandas.core.frame.DataFrame'>\n",
      "RangeIndex: 891 entries, 0 to 890\n",
      "Data columns (total 12 columns):\n",
      " #   Column       Non-Null Count  Dtype  \n",
      "---  ------       --------------  -----  \n",
      " 0   PassengerId  891 non-null    int64  \n",
      " 1   Survived     891 non-null    int64  \n",
      " 2   Pclass       891 non-null    int64  \n",
      " 3   Name         891 non-null    object \n",
      " 4   Sex          891 non-null    object \n",
      " 5   Age          714 non-null    float64\n",
      " 6   SibSp        891 non-null    int64  \n",
      " 7   Parch        891 non-null    int64  \n",
      " 8   Ticket       891 non-null    object \n",
      " 9   Fare         891 non-null    float64\n",
      " 10  Cabin        204 non-null    object \n",
      " 11  Embarked     889 non-null    object \n",
      "dtypes: float64(2), int64(5), object(5)\n",
      "memory usage: 83.7+ KB\n",
      "None\n",
      "\n",
      " --------------------------------------------------\n",
      "NUMBER OF UNIQUE VALUES PER FEATURE: \n",
      "\n",
      "PassengerId    891\n",
      "Survived         2\n",
      "Pclass           3\n",
      "Name           891\n",
      "Sex              2\n",
      "Age             88\n",
      "SibSp            7\n",
      "Parch            7\n",
      "Ticket         681\n",
      "Fare           248\n",
      "Cabin          147\n",
      "Embarked         3\n",
      "dtype: int64\n",
      "\n",
      " --------------------------------------------------\n",
      "NULL VALUES PER FEATURE\n",
      "PassengerId      0\n",
      "Survived         0\n",
      "Pclass           0\n",
      "Name             0\n",
      "Sex              0\n",
      "Age            177\n",
      "SibSp            0\n",
      "Parch            0\n",
      "Ticket           0\n",
      "Fare             0\n",
      "Cabin          687\n",
      "Embarked         2\n",
      "dtype: int64\n"
     ]
    }
   ],
   "source": [
    "def show_info(data):\n",
    "    print('DATASET SHAPE: ', data.shape, '\\n')\n",
    "    print('-'*50)\n",
    "    print('FEATURE DATA TYPES:')\n",
    "    print(data.info())\n",
    "    print('\\n', '-'*50)\n",
    "    print('NUMBER OF UNIQUE VALUES PER FEATURE:', '\\n')\n",
    "    print(data.nunique())\n",
    "    print('\\n', '-'*50)\n",
    "    print('NULL VALUES PER FEATURE')\n",
    "    print(data.isnull().sum())\n",
    "    \n",
    "show_info(df)"
   ]
  },
  {
   "cell_type": "markdown",
   "id": "dcc92442",
   "metadata": {},
   "source": [
    "* eliminando variáveis que não serão usadas"
   ]
  },
  {
   "cell_type": "code",
   "execution_count": 23,
   "id": "4a18aa40",
   "metadata": {},
   "outputs": [
    {
     "name": "stdout",
     "output_type": "stream",
     "text": [
      "<class 'pandas.core.frame.DataFrame'>\n",
      "RangeIndex: 891 entries, 0 to 890\n",
      "Data columns (total 9 columns):\n",
      " #   Column       Non-Null Count  Dtype  \n",
      "---  ------       --------------  -----  \n",
      " 0   PassengerId  891 non-null    int64  \n",
      " 1   Survived     891 non-null    int64  \n",
      " 2   Pclass       891 non-null    int64  \n",
      " 3   Sex          891 non-null    object \n",
      " 4   Age          714 non-null    float64\n",
      " 5   SibSp        891 non-null    int64  \n",
      " 6   Parch        891 non-null    int64  \n",
      " 7   Fare         891 non-null    float64\n",
      " 8   Embarked     889 non-null    object \n",
      "dtypes: float64(2), int64(5), object(2)\n",
      "memory usage: 62.8+ KB\n"
     ]
    }
   ],
   "source": [
    "df = df.drop(columns=['Cabin', 'Name', 'Ticket'])\n",
    "df.info()"
   ]
  },
  {
   "cell_type": "markdown",
   "id": "8525ea6c",
   "metadata": {},
   "source": [
    "* PassengerID > index"
   ]
  },
  {
   "cell_type": "code",
   "execution_count": 25,
   "id": "82e53c50",
   "metadata": {},
   "outputs": [],
   "source": [
    "df.set_index(['PassengerId'], inplace=True)"
   ]
  },
  {
   "cell_type": "markdown",
   "id": "59254433",
   "metadata": {},
   "source": [
    "* transformando ['sex'] em binário"
   ]
  },
  {
   "cell_type": "code",
   "execution_count": 31,
   "id": "886d5715",
   "metadata": {},
   "outputs": [
    {
     "data": {
      "text/plain": [
       "male      577\n",
       "female    314\n",
       "Name: Sex, dtype: int64"
      ]
     },
     "execution_count": 31,
     "metadata": {},
     "output_type": "execute_result"
    }
   ],
   "source": [
    "df['Sex'].value_counts()"
   ]
  },
  {
   "cell_type": "code",
   "execution_count": 34,
   "id": "9b98f50f",
   "metadata": {},
   "outputs": [
    {
     "data": {
      "text/plain": [
       "PassengerId\n",
       "1      0\n",
       "2      1\n",
       "3      1\n",
       "4      1\n",
       "5      0\n",
       "      ..\n",
       "887    0\n",
       "888    1\n",
       "889    1\n",
       "890    0\n",
       "891    0\n",
       "Name: Sex, Length: 891, dtype: int64"
      ]
     },
     "execution_count": 34,
     "metadata": {},
     "output_type": "execute_result"
    }
   ],
   "source": [
    "sex = {'male': '0', 'female': '1'}\n",
    "df['Sex'] = df['Sex'].replace(sex).astype('int64')\n",
    "df['Sex']"
   ]
  },
  {
   "cell_type": "code",
   "execution_count": null,
   "id": "21f6b83f",
   "metadata": {},
   "outputs": [],
   "source": []
  },
  {
   "cell_type": "markdown",
   "id": "776c7212",
   "metadata": {},
   "source": [
    "#  <a name=\"tratamento\">3. Tratamento</a>\n",
    "[Voltar ao índice](#indice)"
   ]
  },
  {
   "cell_type": "code",
   "execution_count": null,
   "id": "e6994852",
   "metadata": {},
   "outputs": [],
   "source": []
  },
  {
   "cell_type": "markdown",
   "id": "3115abed",
   "metadata": {},
   "source": [
    "#  <a name=\"corr\">4. Correlação e associação</a>\n",
    "[Voltar ao índice](#indice)"
   ]
  },
  {
   "cell_type": "code",
   "execution_count": null,
   "id": "0c2c2f28",
   "metadata": {},
   "outputs": [],
   "source": []
  },
  {
   "cell_type": "markdown",
   "id": "85740fd9",
   "metadata": {},
   "source": [
    "#  <a name=\"modelo\">5. Treinamento do modelo</a>\n",
    "[Voltar ao índice](#indice)"
   ]
  },
  {
   "cell_type": "code",
   "execution_count": null,
   "id": "93da9b19",
   "metadata": {},
   "outputs": [],
   "source": []
  },
  {
   "cell_type": "markdown",
   "id": "4eb1d76c",
   "metadata": {},
   "source": [
    "#  <a name=\"avaliacao\">6. Avaliação do modelo</a>\n",
    "[Voltar ao índice](#indice)"
   ]
  },
  {
   "cell_type": "code",
   "execution_count": null,
   "id": "b81bc224",
   "metadata": {},
   "outputs": [],
   "source": []
  },
  {
   "cell_type": "markdown",
   "id": "b89150f2",
   "metadata": {},
   "source": [
    "#  <a name=\"aprimoramento\">7. Aprimoramento do modelo</a>\n",
    "[Voltar ao índice](#indice)"
   ]
  },
  {
   "cell_type": "code",
   "execution_count": null,
   "id": "770db7c0",
   "metadata": {},
   "outputs": [],
   "source": []
  },
  {
   "cell_type": "markdown",
   "id": "d8c4ce78",
   "metadata": {},
   "source": [
    "#  <a name=\"conclusao\">8. Conclusão</a>\n",
    "[Voltar ao índice](#indice)"
   ]
  },
  {
   "cell_type": "code",
   "execution_count": null,
   "id": "a665e44d",
   "metadata": {},
   "outputs": [],
   "source": []
  }
 ],
 "metadata": {
  "kernelspec": {
   "display_name": "Python 3 (ipykernel)",
   "language": "python",
   "name": "python3"
  },
  "language_info": {
   "codemirror_mode": {
    "name": "ipython",
    "version": 3
   },
   "file_extension": ".py",
   "mimetype": "text/x-python",
   "name": "python",
   "nbconvert_exporter": "python",
   "pygments_lexer": "ipython3",
   "version": "3.9.13"
  }
 },
 "nbformat": 4,
 "nbformat_minor": 5
}
